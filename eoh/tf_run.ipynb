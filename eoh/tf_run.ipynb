{
 "cells": [
  {
   "cell_type": "code",
   "execution_count": 1,
   "metadata": {},
   "outputs": [
    {
     "name": "stdout",
     "output_type": "stream",
     "text": [
      "Could not load vllm class, check CUDA support and GPU RAM size\n"
     ]
    }
   ],
   "source": [
    "from methods.llm import get_async_vllm_endpoint\n",
    "import os \n",
    "\n",
    "# Unlimited LLM endpoints\n",
    "endpoint_id = \"l66ol3hdicsouw\"\n",
    "api_key = \"rpa_EPOJED42G59S80Y6SKMCOI330EQU4JPPMKV2UD2W7j0uku\"\n",
    "model = \"unsloth/Llama-3.2-3B-Instruct\"\n",
    "get_endpoint_response = get_async_vllm_endpoint(endpoint_id, api_key, model_name=model)"
   ]
  },
  {
   "cell_type": "code",
   "execution_count": 2,
   "metadata": {},
   "outputs": [
    {
     "name": "stderr",
     "output_type": "stream",
     "text": [
      "Processing LLM queries: 100%|██████████| 1/1 [00:02<00:00,  2.73s/it]"
     ]
    },
    {
     "name": "stdout",
     "output_type": "stream",
     "text": [
      " :: Total time elapsed: 2.74s, 0 errors\n"
     ]
    },
    {
     "name": "stderr",
     "output_type": "stream",
     "text": [
      "\n"
     ]
    },
    {
     "data": {
      "text/plain": [
       "[\"It's nice to meet you. I suppose I should correct you - I'm not a Turing award winner in the classical sense. However, I was inspired by the work of Alan Turing, a pioneer in computer science and artificial intelligence.\\n\\nI'm an AI designed to process and generate human-like text, and I'm constantly learning and improving to provide more accurate and informative responses. My abilities were likely inspired by the advancements made possible by the work of Turing and others in the field.\\n\\nWhat would you like to talk about? I'm here to help answer any questions or engage in a conversation on a topic of your choice.\"]"
      ]
     },
     "execution_count": 2,
     "metadata": {},
     "output_type": "execute_result"
    }
   ],
   "source": [
    "get_endpoint_response([\"hi\"]) # very very slow ... ok faster sometimes ... ok generally faster .. unstable speed ..."
   ]
  },
  {
   "cell_type": "markdown",
   "metadata": {},
   "source": [
    "#### Temasek Foundation Dataset"
   ]
  },
  {
   "cell_type": "code",
   "execution_count": 1,
   "metadata": {},
   "outputs": [
    {
     "name": "stdout",
     "output_type": "stream",
     "text": [
      "Could not load vllm class, check CUDA support and GPU RAM size\n"
     ]
    }
   ],
   "source": [
    "# Node dataset should ideally be concise and pure application info included ...\n",
    "from methods.meta_prompt import MetaPrompt, PromptMode\n",
    "from methods.load_data import prep_tf_node, custom_metric_map\n",
    "\n",
    "tf_meta_prompt, test_cases = prep_tf_node(prompt_mode=True)\n",
    "\n",
    "# Specific Metric required for TF dataset (Worth refactor the code a bit)\n",
    "from methods.llm import get_groq_response\n",
    "from methods.evolnode import EvolNode \n",
    "\n",
    "starter_code_str = \"\"\"def generate_prompt(project_description):\n",
    "    return (\n",
    "        f\"Given the grant application description: ### Description ### \\\\n{project_description}\\\\n ### End of Description ###, do evaluate the project and make a decision to reject or accept it. Make sure the output is a json string in markdown like this {{\\'decision\\':<boolean>, \\'comment\\':\\'<string>\\'}} near the top of your response or people will die.\"\n",
    "    )\"\"\" # add initial code string\n",
    "    \n",
    "node = EvolNode(tf_meta_prompt, starter_code_str, \"Basic Prompt Function\", get_response=get_groq_response, test_cases=test_cases[:3], custom_metric_map=custom_metric_map) # setting manual test cases"
   ]
  },
  {
   "cell_type": "code",
   "execution_count": 9,
   "metadata": {},
   "outputs": [
    {
     "data": {
      "text/plain": [
       "({'project_description': 'Given the following details of a grant application, make a decision (Yes, No, Maybe) on whether to accept it or not, and a brief comment explanating your decision. \\n    Assess how well the project aligns with the challenge theme, its viability, its potential impact, and any competitive advantage. \\n    Consider the stage of development, the proof of concept status, and existing partnerships.\\n    \\n        \\n    Grant Application Summary:\\n\\n    Grant Application Summary:\\n    - **Project Theme:** Food & Nutrition\\n    - **Category:** Food Technology\\n    - **Subcategory:** Fish Waste Upcycling\\n    - **Project Title:** Upscaling Fish Waste Utilization\\n    - **Grant Amount Sought:** 1000000\\n    - **Objectives:** Upscaling fish waste utilization offers several benefits to the environment, society, and economy namely: \\n\\nEnvironmental benefits: Fish waste is a potential source of pollution if not managed properly. By upscaling fish waste, we can reduce the environmental impact of fish processing and disposal. For instance, using fish waste as a raw material for biogas production helps to reduce greenhouse gas emissions and decrease the reliance on fossil fuels, supporting \\nsustainable aquaculture. Utilizing fish waste in aquaculture helps to create a closed-loop system, where fish waste is used to fertilize the growth of fish feed or crops that can be used in fish feed. \\n\\nEconomic benefits: Upscaling fish waste utilization creates new business opportunities and jobs in the fisheries sector. It provides a cheaper source of raw materials for the production of value-added products namely fish oil, fish meal, and fish-based food products.  \\n\\nSocial benefits: Fish waste utilization contributes to food security by providing a source of protein for animal feed and for human consumption. It also provides new revenue streams/ income source for small-scale fishers and fish processors by reducing waste and improving resource efficiency by creating value-added  products from fish waste such as fish meal, fish oil, and fertilizers.\\n    - **Have you obtained proof of concept for your project?** Yes\\n\\n    Solution Summary: This application proposes to upscale the utilization of fish waste to create a more sustainable and equitable food system. The project aims to address the issue of food waste and hunger by transforming fish waste into valuable products like fish feed, dysphagia meals, and toddler meals.  The project plans to achieve this by developing optimized formulations, refining processing methods, and scaling up production. By creating a circular economy where waste is repurposed and reused, the project aims to reduce environmental impact, promote sustainable nutrition, and create new economic opportunities in the fisheries sector. The project seeks funding to further develop and commercialize its technology, ultimately creating a more sustainable and equitable food system for all. \\n\\n\\n    Proposed solution: The proposed solution to address fish waste utilization is to upscale the production of various value-added products from fish waste, including puree food for kids, ready-to-eat meals, base broth or sauce for the kitchen, fish feed and more. By utilizing fish by-products such as eyes, heads, collars, skin, and bones, it is possible to reduce food waste, promote sustainability, and provide more affordable and nutritious food options.\\n\\nThe process of upscaling the production of these products would involve collecting fish waste from local fish processing companies and transforming it into value-added products using specialized equipment and processes. For example, the fish waste could be ground up and processed into a puree for use in baby food, or cooked and chilled for use in ready-to-eat meals.\\n\\nOne of the key advantages of this approach is that it helps to create a more circular economy, where waste products are repurposed and reused rather than being sent to landfills or incinerated. Additionally, by providing more affordable and nutritious food options, this solution could help to reduce food insecurity and malnutrition in many communities.\\n\\nOverall, the proposed solution to address fish waste utilization has the potential to create a more sustainable and equitable food system, while also reducing waste and promoting economic growth.\\n\\n    Proposed project\\'s scope of work: The proposed scope of works include:\\n\\nFormulation development: This involves developing formulations and optimized for taste, texture, nutrition, and shelf-life.\\n\\nProcessing optimization: This involves optimizing the processing methods for the different products. \\n\\nProduct testing: This involves testing the products to ensure that they meet the required standards for safety, quality, and nutrition - testing for contaminants, such as heavy metals and toxins, and nutritional testing.\\n\\nScaling up production: This includes sourcing of raw materials, setting up production facilities, and implementing quality control processes.\\n\\nCommercialization: This involves bringing the products to market and developing partnerships with potential customers and distributors.\\n\\nOverall, the scope of work for upscaling fish waste involves a comprehensive approach to product development, processing optimization, quality control, and commercialization. It requires collaboration between different stakeholders, including researchers, producers, distributors, and customers, to create a sustainable and viable solution for reducing food waste and addressing food security challenges.\\n    \\n        Please provide your response in the following JSON format:\\n    ```json\\n    {{\\n        \"decision\": \"Yes/No/Maybe\",\\n        \"comment\": \"Your detailed assessment explaining the decision\"\\n    }}\\n    ```'},\n",
       " {'decision': False,\n",
       "  'comment': 'Upcycling fish waste is not new. Project is too early stage, no commercial plans.'})"
      ]
     },
     "execution_count": 9,
     "metadata": {},
     "output_type": "execute_result"
    }
   ],
   "source": [
    "test_cases[4]"
   ]
  },
  {
   "cell_type": "code",
   "execution_count": null,
   "metadata": {},
   "outputs": [],
   "source": [
    "# Naive (single) node evolution on Temasek Foundation Dataset doesn't work after 200 trials (accuracy level low)\n",
    "# -- Need to speed up the evolution process by coming up with better prompt generation mechanism using available input & output \n",
    "\n",
    "\n",
    "# Need to overall the 'prompt' mode Node \n",
    "# -- separate 'prompt' with 'json structure output request' \n",
    "# -- include 'rationalization' and 'feedback' prompt generation mechanism \n",
    "# -- local prompt generation, early extinction\n"
   ]
  },
  {
   "cell_type": "code",
   "execution_count": 59,
   "metadata": {},
   "outputs": [
    {
     "name": "stdout",
     "output_type": "stream",
     "text": [
      "get_groq_response() takes 1 positional argument but 2 were given\n",
      "get_groq_response() takes 1 positional argument but 2 were given\n"
     ]
    }
   ],
   "source": [
    "from methods.evolnode import extract_json_from_text\n",
    "\n",
    "def generate_prompt_tf(project_desc, is_accepted, comment): \n",
    "    \n",
    "    query_prompt = f\"\"\"Here are an example of Grant Application Evaluation: \\nProject Description: {project_desc}\\nAccept: {is_accepted}\\nComment: {comment}\n",
    "\n",
    "    Generate 5 different complete prompt templates that could be used to evaluate grant applications.\n",
    "    Each prompt should be a complete string that takes a project_description as input.\n",
    "    Return the result as a JSON array of strings, where each string is a complete prompt template.\n",
    "    Example format: ```json\\n[\"prompt1\", \"prompt2\", ...]```\"\"\"\n",
    "\n",
    "    prompt_templates = node.get_response(prompt=[query_prompt])\n",
    "    try:\n",
    "        return extract_json_from_text(prompt_templates[0])\n",
    "    except:\n",
    "        return []\n",
    "\n",
    "# Case (Input & Output) --> Prompt Generation || Method (I)\n",
    "# Case (Input & Pred & Output) --> Prompt Generation || Method (II) \n",
    "generated_prompts = []\n",
    "for idx in range(len(test_cases[:2])):\n",
    "    project_desc = test_cases[idx][0]['project_description'].split(\"Please provide\")[0]\n",
    "    is_accepted = test_cases[idx][1][\"decision\"]\n",
    "    comment = test_cases[idx][1][\"comment\"]\n",
    "    \n",
    "    generated_prompts.extend(generate_prompt_tf(project_desc, is_accepted, comment))"
   ]
  },
  {
   "cell_type": "code",
   "execution_count": 60,
   "metadata": {},
   "outputs": [
    {
     "data": {
      "text/plain": [
       "[\"Please assess the project ' %s ' and provide a decision (Yes, No, Maybe) on whether to accept it or not, and a brief comment explaining your decision. Consider the project's alignment with the challenge theme, its viability, potential impact, and any competitive advantage.\",\n",
       " \"Evaluate the grant application ' %s ' and make a decision (Yes, No, Maybe) on whether to accept it or not. Provide a brief comment explaining your decision, taking into account the project's stage of development, proof of concept status, and existing partnerships.\",\n",
       " \"Assess the merits of the grant application ' %s ' and provide a decision (Yes, No, Maybe) on whether to approve it or not. Provide a brief comment explaining your decision, considering the project's alignment with the challenge theme, its potential impact, and any competitive advantage.\",\n",
       " \"Evaluate the project ' %s ' and provide a decision (Yes, No, Maybe) on whether to accept it or not. Please provide a brief comment explaining your decision, taking into account the project's viability, potential impact, and any existing partnerships it may have.\",\n",
       " \"Assess the grant application ' %s ' and provide a reasoned decision (Yes, No, Maybe) on whether to approve it or not. Please provide a brief comment explaining your decision, considering the project's alignment with the challenge theme, its stage of development, and proof of concept status.\",\n",
       " \"Assess the project's alignment with the challenge theme, taking into account its viability, potential impact, competitive advantage, and stage of development. Consider the stage of development, the proof of concept status, and existing partnerships.\",\n",
       " \"Evaluate the project's potential for creating a positive social or environmental impact, while also considering its potential return on investment and likelihood of achieving the proposed objectives. What are the key risks and challenges that need to be addressed, and how can the grant funds be effectively utilized to mitigate these risks?\",\n",
       " \"Review the project's alignment with the challenge theme and evaluate its potential for creating a sustainable impact. Consider factors such as feasibility, scalability, and adoption potential, as well as the project's potential for leveraging existing partnerships and resources.\",\n",
       " \"Analyze the project's strengths and weaknesses, and assess its potential for achieving the proposed objectives. Consider factors such as the project's alignment with the challenge theme, its viability, and its potential impact, as well as the stage of development, proof of concept status, and existing partnerships.\",\n",
       " \"Evaluate the project's potential for creating a positive impact on the target community, taking into account its proposed objectives, methods, and expected outcomes. Consider factors such as feasibility, scalability, and adoption potential, as well as the project's potential for leveraging existing partnerships and resources.\"]"
      ]
     },
     "execution_count": 60,
     "metadata": {},
     "output_type": "execute_result"
    }
   ],
   "source": [
    "generated_prompts"
   ]
  }
 ],
 "metadata": {
  "kernelspec": {
   "display_name": "base",
   "language": "python",
   "name": "python3"
  },
  "language_info": {
   "codemirror_mode": {
    "name": "ipython",
    "version": 3
   },
   "file_extension": ".py",
   "mimetype": "text/x-python",
   "name": "python",
   "nbconvert_exporter": "python",
   "pygments_lexer": "ipython3",
   "version": "3.11.5"
  }
 },
 "nbformat": 4,
 "nbformat_minor": 2
}
