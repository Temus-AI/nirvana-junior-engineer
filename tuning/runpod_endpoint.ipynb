{
 "cells": [
  {
   "cell_type": "markdown",
   "metadata": {},
   "source": [
    "#### Calling RunPod Endpoint"
   ]
  },
  {
   "cell_type": "code",
   "execution_count": 1,
   "metadata": {},
   "outputs": [
    {
     "name": "stdout",
     "output_type": "stream",
     "text": [
      "\n",
      "Results:\n",
      "{'results': ['The capital of France is Paris.', 'A man walked into a library and asked the librarian, \"Do you have any books on Pavlov\\'s dogs and Schrödinger\\'s cat?\"\\n\\nThe librarian replied, \"It rings a bell, but I\\'m not sure if it\\'s here or not.\"']}\n"
     ]
    }
   ],
   "source": [
    "# Using the same BASE_URL you defined\n",
    "INTERNAL_PORT = 30000 # Need to expose port from runpod instance editting window \n",
    "POD_ID = \"ppas13gg82lsdh\" # Specific to each runpod instance\n",
    "BASE_URL = f\"https://{POD_ID}-{INTERNAL_PORT}.proxy.runpod.net\" # replace \"localhost\" with this\n",
    "\n",
    "import requests\n",
    "\n",
    "prompts = [  \n",
    "    \"What is the capital of France?\",\n",
    "    \"Tell me a short joke\"\n",
    "]\n",
    "\n",
    "response = requests.post(\n",
    "    f\"{BASE_URL}/generate\",\n",
    "    json=prompts \n",
    ")\n",
    "\n",
    "if response.status_code == 200:\n",
    "    results = response.json()\n",
    "    print(\"\\nResults:\")\n",
    "    print(results)\n",
    "else:\n",
    "    print(f\"Error: {response.status_code}\")\n",
    "    print(response.text)\n",
    "    \n",
    "    \n",
    "# Next question is how to convert interleaved text & image data into prompt\n",
    "# llama3.2-vision-instruct should provide such information right? \n"
   ]
  },
  {
   "cell_type": "code",
   "execution_count": null,
   "metadata": {},
   "outputs": [],
   "source": []
  }
 ],
 "metadata": {
  "kernelspec": {
   "display_name": "base",
   "language": "python",
   "name": "python3"
  },
  "language_info": {
   "codemirror_mode": {
    "name": "ipython",
    "version": 3
   },
   "file_extension": ".py",
   "mimetype": "text/x-python",
   "name": "python",
   "nbconvert_exporter": "python",
   "pygments_lexer": "ipython3",
   "version": "3.11.5"
  }
 },
 "nbformat": 4,
 "nbformat_minor": 2
}
