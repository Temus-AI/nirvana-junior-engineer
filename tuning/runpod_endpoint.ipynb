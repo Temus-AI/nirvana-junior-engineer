{
 "cells": [
  {
   "cell_type": "markdown",
   "metadata": {},
   "source": [
    "#### Calling RunPod Endpoint"
   ]
  },
  {
   "cell_type": "code",
   "execution_count": 3,
   "metadata": {},
   "outputs": [
    {
     "name": "stdout",
     "output_type": "stream",
     "text": [
      "\n",
      "Results:\n",
      "{'results': ['Batman: Paris', 'Batman: Ibito', 'Batman: Paris', 'Batman: IddnA', 'Batman: Paris', 'Batman: Whywk', 'Batman: Ithin', 'Batman: Iaals', 'Batman: Theak', 'Batman: Ithyw', 'Batman: Their', 'Batman: IUPUI', 'Batman: Paris', 'Batman: Icing', 'Batman: paris', 'Batman: Iaind', 'Batman: Idaeh', 'Batman: Whyul', 'Batman: Paris', 'Batman: whyRA', 'Batman: TheaJ', 'Batman: Ikaru', 'Batman: Theal', 'Batman: WhyIU', 'Batman: Paris', 'Batman: WhyIU', 'Batman: Ident', 'Batman: WhyTD', 'Batman: Noted', 'Batman: Whatd', 'Batman: Theur', 'Batman: Whyhq', 'Batman: Theth', 'Batman: Ieauc', 'Batman: Tssss', 'Batman: WhydI', 'Batman: Thata', 'Batman: Ivard', 'Batman: Thean', 'Batman: WhyVy']}\n"
     ]
    }
   ],
   "source": [
    "# Using the same BASE_URL you defined\n",
    "INTERNAL_PORT = 30000 # Need to expose port from runpod instance editting window \n",
    "POD_ID = \"jyql518x9mlrdc\" # Specific to each runpod instance\n",
    "BASE_URL = f\"https://{POD_ID}-{INTERNAL_PORT}.proxy.runpod.net\" # replace \"localhost\" with this\n",
    "\n",
    "import requests\n",
    "\n",
    "prompts = [  \n",
    "    \"What is the capital of France?\",\n",
    "    \"Tell me a short joke\"\n",
    "] * 20\n",
    "\n",
    "grammar_str = \"\"\"\n",
    "root ::= \"Batman: \" letter letter letter letter letter\n",
    "letter ::= [a-zA-Z]\n",
    "\"\"\"\n",
    "\n",
    "request_data = {\n",
    "    \"prompts\": prompts,\n",
    "    \"grammar\": grammar_str\n",
    "}\n",
    "\n",
    "# response with grammar constraint\n",
    "response = requests.post(\n",
    "    f\"{BASE_URL}/generate_cfg\",\n",
    "    json=request_data,\n",
    ")\n",
    "\n",
    "# response without grammar constraint \n",
    "# response = requests.post(\n",
    "#     f\"{BASE_URL}/generate\",\n",
    "#     json = prompts\n",
    "# )\n",
    "\n",
    "\n",
    "if response.status_code == 200:\n",
    "    results = response.json()\n",
    "    print(\"\\nResults:\")\n",
    "    print(results)\n",
    "else:\n",
    "    print(f\"Error: {response.status_code}\")\n",
    "    print(response.text)\n",
    "    \n",
    "    \n",
    "# Next question is how to convert interleaved text & image data into prompt\n",
    "# llama3.2-vision-instruct should provide such information right? \n"
   ]
  },
  {
   "cell_type": "code",
   "execution_count": null,
   "metadata": {},
   "outputs": [],
   "source": []
  },
  {
   "cell_type": "code",
   "execution_count": null,
   "metadata": {},
   "outputs": [],
   "source": []
  },
  {
   "cell_type": "code",
   "execution_count": null,
   "metadata": {},
   "outputs": [],
   "source": []
  }
 ],
 "metadata": {
  "kernelspec": {
   "display_name": "base",
   "language": "python",
   "name": "python3"
  },
  "language_info": {
   "codemirror_mode": {
    "name": "ipython",
    "version": 3
   },
   "file_extension": ".py",
   "mimetype": "text/x-python",
   "name": "python",
   "nbconvert_exporter": "python",
   "pygments_lexer": "ipython3",
   "version": "3.11.5"
  }
 },
 "nbformat": 4,
 "nbformat_minor": 2
}
