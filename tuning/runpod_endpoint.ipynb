{
 "cells": [
  {
   "cell_type": "markdown",
   "metadata": {},
   "source": [
    "#### Calling RunPod Endpoint"
   ]
  },
  {
   "cell_type": "code",
   "execution_count": 16,
   "metadata": {},
   "outputs": [
    {
     "name": "stdout",
     "output_type": "stream",
     "text": [
      "\n",
      "Results:\n",
      "{'results': ['Batman: Paris', 'Batman: WhydA', 'Batman: Theur', 'Batman: WhyAm', 'Batman: anced', 'Batman: Whats', 'Batman: Paris', 'Batman: WhyIU', 'Batman: Theuh', 'Batman: WhydN', 'Batman: Paris', 'Batman: IADCs', 'Batman: TheNd', 'Batman: Iruns', 'Batman: Ities', 'Batman: Where', 'Batman: Thecc', 'Batman: IAdds', 'Batman: Theau', 'Batman: WhydI', 'Batman: Paris', 'Batman: Copsp', 'Batman: Theos', 'Batman: Hotel', 'Batman: isnth', 'Batman: Whatd', 'Batman: Theio', 'Batman: Where', 'Batman: Theia', 'Batman: WhydI', 'Batman: Theoh', 'Batman: WhyIU', 'Batman: uchsI', 'Batman: IGPXr', 'Batman: Theeu', 'Batman: Whydo', 'Batman: Paris', 'Batman: WhydI', 'Batman: Paris', 'Batman: Areop', 'Batman: iceoI', 'Batman: IUCEO', 'Batman: Theis', 'Batman: whydI', 'Batman: Theuf', 'Batman: WhydI', 'Batman: Theob', 'Batman: Didnt', 'Batman: Theos', 'Batman: Youuu', 'Batman: Thejl', 'Batman: WhyIU', 'Batman: TheNe', 'Batman: WhydI', 'Batman: Paris', 'Batman: IThwB', 'Batman: Paris', 'Batman: Where', 'Batman: Theus', 'Batman: WhydE', 'Batman: Paris', 'Batman: WhydI', 'Batman: Paris', 'Batman: WhatP', 'Batman: Paris', 'Batman: Whatd', 'Batman: Theor', 'Batman: WhyIU', 'Batman: TheTF', 'Batman: WhyxC', 'Batman: Paris', 'Batman: BatcG', 'Batman: TheJq', 'Batman: Whydo', 'Batman: Their', 'Batman: WhydI', 'Batman: Paris', 'Batman: IBUKB', 'Batman: Theoz', 'Batman: Whats', 'Batman: Thelb', 'Batman: ialsy', 'Batman: TheoP', 'Batman: WhyXv', 'Batman: Thear', 'Batman: WhyIC', 'Batman: orign', 'Batman: WhydD', 'Batman: TheRz', 'Batman: WhydO', 'Batman: Paris', 'Batman: Ipadk', 'Batman: isntt', 'Batman: WhydI', 'Batman: Theha', 'Batman: Alter', 'Batman: Thejf', 'Batman: Whydo', 'Batman: Thebi', 'Batman: Whydj', 'Batman: Theos', 'Batman: Homer', 'Batman: Paris', 'Batman: Whyko', 'Batman: Theob', 'Batman: Whyzz', 'Batman: TheIJ', 'Batman: IiiIi', 'Batman: Paris', 'Batman: Whytd', 'Batman: Paris', 'Batman: atsby', 'Batman: Paris', 'Batman: WhyME', 'Batman: Paris', 'Batman: Whyed', 'Batman: TheaR', 'Batman: WhydI', 'Batman: Nicea', 'Batman: ayoYO', 'Batman: Thear', 'Batman: Whatd', 'Batman: Paris', 'Batman: WhyIs', 'Batman: Theyb', 'Batman: IADCI', 'Batman: Notre', 'Batman: Whydo', 'Batman: Thein', 'Batman: Whydo', 'Batman: TheiR', 'Batman: Imito', 'Batman: TheDM', 'Batman: YouKu', 'Batman: Theel', 'Batman: WhyDc', 'Batman: HaHaH', 'Batman: Whatd', 'Batman: Paris', 'Batman: icing', 'Batman: Theos', 'Batman: WhyME', 'Batman: Theia', 'Batman: Ikesg', 'Batman: Paris', 'Batman: Whats', 'Batman: Birth', 'Batman: Whydo', 'Batman: Paris', 'Batman: WhatV', 'Batman: Thevt', 'Batman: WhoaI', 'Batman: Theod', 'Batman: WhyPx', 'Batman: Thejd', 'Batman: WhatS', 'Batman: Theia', 'Batman: MonkI', 'Batman: isnat', 'Batman: WhyEd', 'Batman: Theba', 'Batman: IHALF', 'Batman: Paris', 'Batman: Didnt', 'Batman: Theis', 'Batman: Whywt', 'Batman: ortsI', 'Batman: Imita', 'Batman: Theot', 'Batman: Astrn', 'Batman: ilesu', 'Batman: Havey', 'Batman: Paris', 'Batman: WhyHQ', 'Batman: Paris', 'Batman: ItoeY', 'Batman: Paris', 'Batman: Aakae', 'Batman: Paris', 'Batman: WhydI', 'Batman: Theng', 'Batman: Whats', 'Batman: TheJV', 'Batman: WhyKE', 'Batman: isntt', 'Batman: Whyyo', 'Batman: TheBa', 'Batman: Whyum', 'Batman: uatew', 'Batman: WhyHQ', 'Batman: Paris', 'Batman: Icpsu', 'Batman: Noted', 'Batman: whatI', 'Batman: Theoe', 'Batman: WhyIP', 'Batman: Paris', 'Batman: WhatF', 'Batman: Thejf', 'Batman: WhyME', 'Batman: Paris', 'Batman: Whatb', 'Batman: Paris', 'Batman: WhyIU', 'Batman: TheuP', 'Batman: Every', 'Batman: notme', 'Batman: IBSol', 'Batman: ThepM', 'Batman: WhydO', 'Batman: Paris', 'Batman: Whyti', 'Batman: Theel', 'Batman: WhyME', 'Batman: Paris', 'Batman: WhydI', 'Batman: Paris', 'Batman: Whydo', 'Batman: Thean', 'Batman: WhatS', 'Batman: Paris', 'Batman: WhydA', 'Batman: Paris', 'Batman: WhyDo', 'Batman: Paris', 'Batman: Whyss', 'Batman: TheUS', 'Batman: whydI', 'Batman: Notan', 'Batman: Whatj', 'Batman: Theis', 'Batman: IVMGg', 'Batman: Theka', 'Batman: Scare', 'Batman: Paris', 'Batman: WhydI', 'Batman: Theat', 'Batman: ichiS', 'Batman: ThebG', 'Batman: Whatz', 'Batman: Theis', 'Batman: Whatr', 'Batman: Paris', 'Batman: Whydo', 'Batman: Theoc', 'Batman: WhydI', 'Batman: Theog', 'Batman: Ibatm', 'Batman: Paris', 'Batman: WhatJ', 'Batman: angsA', 'Batman: WhydI', 'Batman: TheaR', 'Batman: WhyED', 'Batman: thats', 'Batman: Iftar', 'Batman: Theor', 'Batman: IISRR', 'Batman: Thehw', 'Batman: ICCRC', 'Batman: Theer', 'Batman: Whydy', 'Batman: Theur', 'Batman: WhyVy', 'Batman: Paris', 'Batman: IGPXR', 'Batman: Theer', 'Batman: WhydI', 'Batman: Theur', 'Batman: Nutcr', 'Batman: Paris', 'Batman: Ijust', 'Batman: Thata', 'Batman: WhatH', 'Batman: Haute', 'Batman: alkal', 'Batman: Theot', 'Batman: Whyqv', 'Batman: Theba', 'Batman: WhydI', 'Batman: Paris', 'Batman: Youez', 'Batman: Thehs', 'Batman: Whyed', 'Batman: Paris', 'Batman: WhyGC', 'Batman: Paris', 'Batman: Itron', 'Batman: Thear', 'Batman: Wandr', 'Batman: Isnti', 'Batman: WhyTD', 'Batman: isnoy', 'Batman: WhysO', 'Batman: Paris', 'Batman: ICAKE', 'Batman: Noted', 'Batman: Howsa', 'Batman: thetj', 'Batman: IGPXO', 'Batman: notit', 'Batman: WhydI', 'Batman: Paris', 'Batman: IAMDc', 'Batman: Paris', 'Batman: okerj', 'Batman: TheFo', 'Batman: Iblee', 'Batman: Paris', 'Batman: WhySE', 'Batman: Paris', 'Batman: Whatd', 'Batman: hafta', 'Batman: WhyIp', 'Batman: Paris', 'Batman: Joker', 'Batman: oucht', 'Batman: Whatn', 'Batman: Paris', 'Batman: Whyyy', 'Batman: TheaR', 'Batman: Ixesr', 'Batman: Paris', 'Batman: Whydo', 'Batman: Theat', 'Batman: Wears', 'Batman: TheIE', 'Batman: WhyIp', 'Batman: Paris', 'Batman: aKKSV', 'Batman: TheJo', 'Batman: WhyGS', 'Batman: Theal', 'Batman: WhydI', 'Batman: Paris', 'Batman: IagoP', 'Batman: isikn', 'Batman: WhyHQ', 'Batman: Paris', 'Batman: Stops', 'Batman: Thejn', 'Batman: Whyed', 'Batman: Theob', 'Batman: WhyIP', 'Batman: Paris', 'Batman: whyrI', 'Batman: Notgu', 'Batman: WhydD', 'Batman: Theis', 'Batman: Whydy', 'Batman: Theis', 'Batman: Whyed', 'Batman: Paris', 'Batman: WhatI', 'Batman: thatw', 'Batman: Whyxo', 'Batman: ilcde', 'Batman: WhyKH', 'Batman: Thetr', 'Batman: WhyIa', 'Batman: Paris', 'Batman: whyXF', 'Batman: Paris', 'Batman: WhyXd', 'Batman: Theau', 'Batman: Iverh', 'Batman: Theor', 'Batman: Where', 'Batman: Paris', 'Batman: niche', 'Batman: Theis', 'Batman: WhydU', 'Batman: TheaT', 'Batman: Ithyg', 'Batman: Paris', 'Batman: IThas', 'Batman: Paris', 'Batman: WhydG', 'Batman: eXtmg', 'Batman: WhydI', 'Batman: Paris', 'Batman: Whats', 'Batman: wrong', 'Batman: Ilich', 'Batman: Paris', 'Batman: Thiss', 'Batman: TheBA', 'Batman: WhyDo', 'Batman: Notgj', 'Batman: Where', 'Batman: thejf', 'Batman: Whatd', 'Batman: Paris', 'Batman: WhyIU', 'Batman: Paris', 'Batman: Imita', 'Batman: Thejf', 'Batman: WhyWW', 'Batman: Paris', 'Batman: IGSUY']}\n"
     ]
    }
   ],
   "source": [
    "# Using the same BASE_URL you defined\n",
    "INTERNAL_PORT = 30000 # Need to expose port from runpod instance editting window \n",
    "POD_ID = \"eg683fu1evzwr3\" # Specific to each runpod instance\n",
    "BASE_URL = f\"https://{POD_ID}-{INTERNAL_PORT}.proxy.runpod.net\" # replace \"localhost\" with this\n",
    "\n",
    "import requests\n",
    "\n",
    "prompts = [  \n",
    "    \"What is the capital of France?\",\n",
    "    \"Tell me a short joke\"\n",
    "] * 200\n",
    "\n",
    "# grammar_str = \"\"\"\n",
    "# root ::= \"Age: \" word\n",
    "# word ::= letter letter letter letter letter\n",
    "# letter ::= [a-zA-Z]\n",
    "# \"\"\"\n",
    "\n",
    "grammar_str = \"\"\"\n",
    "root ::= [a-z]\n",
    "\"\"\"\n",
    "\n",
    "request_data = {\n",
    "    \"prompts\": prompts,\n",
    "    \"grammar\": grammar_str\n",
    "}\n",
    "\n",
    "# response with grammar constraint\n",
    "response = requests.post(\n",
    "    f\"{BASE_URL}/generate_cfg\",\n",
    "    json=request_data,\n",
    ")\n",
    "\n",
    "# response without grammar constraint \n",
    "# response = requests.post(\n",
    "#     f\"{BASE_URL}/generate\",\n",
    "#     json = prompts\n",
    "# )\n",
    "\n",
    "if response.status_code == 200:\n",
    "    results = response.json()\n",
    "    print(\"\\nResults:\")\n",
    "    print(results)\n",
    "else:\n",
    "    print(f\"Error: {response.status_code}\")\n",
    "    print(response.text)\n",
    "    \n",
    "    \n",
    "# Next question is how to convert interleaved text & image data into prompt\n",
    "# llama3.2-vision-instruct should provide such information right? \n"
   ]
  }
 ],
 "metadata": {
  "kernelspec": {
   "display_name": "base",
   "language": "python",
   "name": "python3"
  },
  "language_info": {
   "codemirror_mode": {
    "name": "ipython",
    "version": 3
   },
   "file_extension": ".py",
   "mimetype": "text/x-python",
   "name": "python",
   "nbconvert_exporter": "python",
   "pygments_lexer": "ipython3",
   "version": "3.11.5"
  }
 },
 "nbformat": 4,
 "nbformat_minor": 2
}
