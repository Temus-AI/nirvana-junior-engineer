{
 "cells": [
  {
   "cell_type": "markdown",
   "metadata": {},
   "source": [
    "#### Calling RunPod Endpoint"
   ]
  },
  {
   "cell_type": "code",
   "execution_count": 1,
   "metadata": {},
   "outputs": [
    {
     "name": "stdout",
     "output_type": "stream",
     "text": [
      "\n",
      "Results:\n",
      "{'results': ['Batman: TheaR', 'Batman: WhyIP', 'Batman: thess', 'Batman: INuag']}\n"
     ]
    }
   ],
   "source": [
    "# Using the same BASE_URL you defined\n",
    "INTERNAL_PORT = 30000 # Need to expose port from runpod instance editting window \n",
    "POD_ID = \"5hkrkc2bdgjocd\" # Specific to each runpod instance\n",
    "BASE_URL = f\"https://{POD_ID}-{INTERNAL_PORT}.proxy.runpod.net\" # replace \"localhost\" with this\n",
    "\n",
    "import requests\n",
    "\n",
    "prompts = [  \n",
    "    \"What is the capital of France?\",\n",
    "    \"Tell me a short joke\"\n",
    "] * 2\n",
    "\n",
    "grammar_str = \"\"\"\n",
    "root ::= \"Batman: \" word\n",
    "word ::= letter letter letter letter letter\n",
    "letter ::= [a-zA-Z]\n",
    "\"\"\"\n",
    "\n",
    "# grammar_str = \"\"\"\n",
    "# root ::= [a-z]\n",
    "# \"\"\"\n",
    "\n",
    "request_data = {\n",
    "    \"prompts\": prompts,\n",
    "    \"grammar\": grammar_str\n",
    "}\n",
    "\n",
    "# response with grammar constraint\n",
    "response = requests.post(\n",
    "    f\"{BASE_URL}/generate_cfg\",\n",
    "    json=request_data,\n",
    ")\n",
    "\n",
    "# response without grammar constraint \n",
    "# response = requests.post(\n",
    "#     f\"{BASE_URL}/generate\",\n",
    "#     json = prompts\n",
    "# )\n",
    "\n",
    "if response.status_code == 200:\n",
    "    results = response.json()\n",
    "    print(\"\\nResults:\")\n",
    "    print(results)\n",
    "else:\n",
    "    print(f\"Error: {response.status_code}\")\n",
    "    print(response.text)\n",
    "    \n",
    "    \n",
    "# Next question is how to convert interleaved text & image data into prompt\n",
    "# llama3.2-vision-instruct should provide such information right? \n"
   ]
  },
  {
   "cell_type": "markdown",
   "metadata": {},
   "source": [
    "#### MetaPrompt to GrammarString"
   ]
  },
  {
   "cell_type": "code",
   "execution_count": 4,
   "metadata": {},
   "outputs": [],
   "source": [
    "grammar_str = \"\"\"\n",
    "root ::= \"Batman: \" [!-~\\x20]+ \n",
    "\"\"\" # proper grammar for string\n"
   ]
  },
  {
   "cell_type": "code",
   "execution_count": 5,
   "metadata": {},
   "outputs": [
    {
     "name": "stdout",
     "output_type": "stream",
     "text": [
      "\n",
      "Results:\n",
      "{'results': [\"Batman: (looking at you with a mixture of disappointment and determination) Harley. I should have known you'd show up sooner or later. What's the purpose of your visit this time?\"]}\n"
     ]
    }
   ],
   "source": [
    "prompts = [  \n",
    "    \"Joker: So we meet again, Batman!\\n\"\n",
    "]\n",
    "\n",
    "request_data = {\n",
    "    \"prompts\": prompts,\n",
    "    \"grammar\": grammar_str\n",
    "}\n",
    "\n",
    "# response with grammar constraint\n",
    "response = requests.post(\n",
    "    f\"{BASE_URL}/generate_cfg\",\n",
    "    json=request_data,\n",
    ")\n",
    "\n",
    "if response.status_code == 200:\n",
    "    results = response.json()\n",
    "    print(\"\\nResults:\")\n",
    "    print(results)\n",
    "else:\n",
    "    print(f\"Error: {response.status_code}\")\n",
    "    print(response.text)"
   ]
  },
  {
   "cell_type": "code",
   "execution_count": 18,
   "metadata": {},
   "outputs": [
    {
     "data": {
      "text/plain": [
       "['Batman: Joker I should have known you were behind this mess in Arkham As']"
      ]
     },
     "execution_count": 18,
     "metadata": {},
     "output_type": "execute_result"
    }
   ],
   "source": [
    "results['results']"
   ]
  },
  {
   "cell_type": "code",
   "execution_count": null,
   "metadata": {},
   "outputs": [],
   "source": []
  }
 ],
 "metadata": {
  "kernelspec": {
   "display_name": "base",
   "language": "python",
   "name": "python3"
  },
  "language_info": {
   "codemirror_mode": {
    "name": "ipython",
    "version": 3
   },
   "file_extension": ".py",
   "mimetype": "text/x-python",
   "name": "python",
   "nbconvert_exporter": "python",
   "pygments_lexer": "ipython3",
   "version": "3.11.5"
  }
 },
 "nbformat": 4,
 "nbformat_minor": 2
}
