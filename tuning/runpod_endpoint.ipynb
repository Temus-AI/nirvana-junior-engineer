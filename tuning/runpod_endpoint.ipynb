{
 "cells": [
  {
   "cell_type": "markdown",
   "metadata": {},
   "source": [
    "#### Calling RunPod Endpoint"
   ]
  },
  {
   "cell_type": "code",
   "execution_count": 4,
   "metadata": {},
   "outputs": [
    {
     "name": "stdout",
     "output_type": "stream",
     "text": [
      "\n",
      "Results:\n",
      "{'results': ['Batman: Theet', 'Batman: whyqa', 'Batman: ThelM', 'Batman: WhyIU', 'Batman: TheaR', 'Batman: Iambn', 'Batman: Thedq', 'Batman: Whydo', 'Batman: Paris', 'Batman: WhydI', 'Batman: There', 'Batman: WhydI', 'Batman: Itsey', 'Batman: WhydI', 'Batman: TheCa', 'Batman: WhydO', 'Batman: Paris', 'Batman: WhyIU', 'Batman: Theet', 'Batman: WhydI', 'Batman: Theoh', 'Batman: Joker', 'Batman: lolIb', 'Batman: Whyfx', 'Batman: Thein', 'Batman: WhyIp', 'Batman: TheaR', 'Batman: IGPYJ', 'Batman: Paris', 'Batman: WhydV', 'Batman: Paris', 'Batman: WhydI', 'Batman: Theet', 'Batman: ozzdc', 'Batman: Thear', 'Batman: WhyKH', 'Batman: TheBn', 'Batman: Whydj', 'Batman: Noted', 'Batman: BatcW', 'Batman: notfr', 'Batman: WhydI', 'Batman: Theah', 'Batman: Laysl', 'Batman: TheUS', 'Batman: Areuc', 'Batman: Paris', 'Batman: Whyss', 'Batman: Paris', 'Batman: whyAm', 'Batman: Paris', 'Batman: Ixinq', 'Batman: Sorry', 'Batman: Whymj', 'Batman: Paris', 'Batman: Whyqa', 'Batman: TheBi', 'Batman: Aheck', 'Batman: notit', 'Batman: Whyed', 'Batman: Thejf', 'Batman: Whydj', 'Batman: Thenp', 'Batman: WhyBE', 'Batman: Theur', 'Batman: WhyTI', 'Batman: Theis', 'Batman: Imita', 'Batman: Paris', 'Batman: WhyME', 'Batman: Theoz', 'Batman: Imita', 'Batman: Thess', 'Batman: Whatk', 'Batman: TheaR', 'Batman: Whatd', 'Batman: Paris', 'Batman: WhydI', 'Batman: Theft', 'Batman: WhydI', 'Batman: Thear', 'Batman: ISeeC', 'Batman: Thevq', 'Batman: WhydI', 'Batman: Thejl', 'Batman: WhyHQ', 'Batman: Paris', 'Batman: WhydI', 'Batman: Theis', 'Batman: WhydI', 'Batman: egsno', 'Batman: roboc', 'Batman: Theon', 'Batman: Iadla', 'Batman: Paris', 'Batman: Butch', 'Batman: ThewP', 'Batman: YouiB', 'Batman: hahaj', 'Batman: WhyIU', 'Batman: Theiy', 'Batman: WhyxC', 'Batman: irsti', 'Batman: Ivara', 'Batman: Thead', 'Batman: WhydI', 'Batman: Notte', 'Batman: WhydM', 'Batman: IMean', 'Batman: WhydI', 'Batman: Paris', 'Batman: IMMdd', 'Batman: Paris', 'Batman: Theif', 'Batman: Paris', 'Batman: WhydO', 'Batman: Paris', 'Batman: Whydo', 'Batman: Paris', 'Batman: Imita', 'Batman: Theer', 'Batman: WhydM', 'Batman: Theon', 'Batman: Heard', 'Batman: Paris', 'Batman: Ilove', 'Batman: Isogl', 'Batman: WhydI', 'Batman: Isotc', 'Batman: Whatd', 'Batman: ThekU', 'Batman: Batuq', 'Batman: Paris', 'Batman: WhatT', 'Batman: Paris', 'Batman: Iaskn', 'Batman: Paris', 'Batman: WhyME', 'Batman: Paris', 'Batman: WhydI', 'Batman: Thein', 'Batman: IIPCy', 'Batman: Paris', 'Batman: Whyvy', 'Batman: Paris', 'Batman: Whydh', 'Batman: Paris', 'Batman: Whytd', 'Batman: Thean', 'Batman: Would', 'Batman: Theor', 'Batman: ITHAT', 'Batman: Theas', 'Batman: Whyed', 'Batman: Paris', 'Batman: WhyIU', 'Batman: notit', 'Batman: Ithyb', 'Batman: Thegk', 'Batman: WhyME', 'Batman: Theot', 'Batman: WhydC', 'Batman: Noone', 'Batman: WhydC', 'Batman: Theeo', 'Batman: ILEAF', 'Batman: Paris', 'Batman: Whydy', 'Batman: NotaF', 'Batman: Adams', 'Batman: theth', 'Batman: Ivanp', 'Batman: Theev', 'Batman: Whydl', 'Batman: TheeT', 'Batman: WhatJ', 'Batman: Paris', 'Batman: Whatd', 'Batman: Thejb', 'Batman: WhyGC', 'Batman: Theor', 'Batman: YouMt', 'Batman: Paris', 'Batman: ouchs', 'Batman: Theel', 'Batman: Whatz', 'Batman: TheFP', 'Batman: Whyed', 'Batman: Theah', 'Batman: Namur', 'Batman: Thetr', 'Batman: Whydo', 'Batman: Their', 'Batman: WhydI', 'Batman: Thehj', 'Batman: WhydI', 'Batman: Thebe', 'Batman: ypiop', 'Batman: Paris', 'Batman: WhyIU', 'Batman: thear', 'Batman: IFCOI', 'Batman: isane', 'Batman: Whydo', 'Batman: Paris', 'Batman: WhydI', 'Batman: isinS', 'Batman: IXXds', 'Batman: Paris', 'Batman: etsae', 'Batman: Theor', 'Batman: WhydI', 'Batman: Thehe', 'Batman: Whydo', 'Batman: Theys', 'Batman: Whatd', 'Batman: TheSm', 'Batman: IGuyd', 'Batman: Therr', 'Batman: Izfat', 'Batman: Theus', 'Batman: WhyIU', 'Batman: ThebR', 'Batman: Whydj', 'Batman: Theqb', 'Batman: Iocol', 'Batman: orteo', 'Batman: Whyjo', 'Batman: NoceT', 'Batman: Whydo', 'Batman: TheWo', 'Batman: Whatz', 'Batman: Itaig', 'Batman: Whydo', 'Batman: Paris', 'Batman: Whyum', 'Batman: Thear', 'Batman: WhydI', 'Batman: Theer', 'Batman: earsa', 'Batman: doesm', 'Batman: WhoCB', 'Batman: HaHaA', 'Batman: WhydI', 'Batman: Paris', 'Batman: Whydo', 'Batman: Paris', 'Batman: Ipadc', 'Batman: TheJi', 'Batman: Whatd', 'Batman: Paris', 'Batman: Homer', 'Batman: ysers', 'Batman: Icrey', 'Batman: Saint', 'Batman: whyWW', 'Batman: Paris', 'Batman: Imita', 'Batman: Paris', 'Batman: AhaaI', 'Batman: Thect', 'Batman: whyNO', 'Batman: Paris', 'Batman: WhydI', 'Batman: Paris', 'Batman: ialsy', 'Batman: Theor', 'Batman: WhatI', 'Batman: thern', 'Batman: WhatD', 'Batman: Paris', 'Batman: Iquly', 'Batman: Theel', 'Batman: lierj', 'Batman: isntF', 'Batman: algae', 'Batman: TheLo', 'Batman: whyLK', 'Batman: TheaP', 'Batman: Whati', 'Batman: Notto', 'Batman: WhydI', 'Batman: Theot', 'Batman: WhydI', 'Batman: Theof', 'Batman: IITTW', 'Batman: Paris', 'Batman: Whydo', 'Batman: Theel', 'Batman: Whats', 'Batman: Iamth', 'Batman: WhyME', 'Batman: TheuM', 'Batman: WhatD', 'Batman: Theis', 'Batman: Robin', 'Batman: Paris', 'Batman: Ipadh', 'Batman: Theel', 'Batman: Ixion', 'Batman: Paris', 'Batman: WhydI', 'Batman: Paris', 'Batman: WhydI', 'Batman: Paris', 'Batman: Whyed', 'Batman: Paris', 'Batman: WhydI', 'Batman: iousy', 'Batman: Whatw', 'Batman: Thear', 'Batman: WhydI', 'Batman: lesia', 'Batman: Iesus', 'Batman: ThebI', 'Batman: Whyss', 'Batman: Thezn', 'Batman: Where', 'Batman: Thelu', 'Batman: WhyIU', 'Batman: Theor', 'Batman: WhyME', 'Batman: Paris', 'Batman: Whydo', 'Batman: OLUMB', 'Batman: Ipees', 'Batman: Paris', 'Batman: whats', 'Batman: icaoR', 'Batman: WhydI', 'Batman: isntt', 'Batman: WhyIP', 'Batman: Theos', 'Batman: WhydI', 'Batman: Paris', 'Batman: WhydI', 'Batman: ThevJ', 'Batman: pterw', 'Batman: Theot', 'Batman: Whydo', 'Batman: Thean', 'Batman: Whytt', 'Batman: ThebH', 'Batman: Whatx', 'Batman: Paris', 'Batman: Didnt', 'Batman: TheaR', 'Batman: acerb', 'Batman: ocker', 'Batman: WhydI', 'Batman: Paris', 'Batman: aargh', 'Batman: Paris', 'Batman: WhydI', 'Batman: Paris', 'Batman: IFFRQ', 'Batman: Thear', 'Batman: batok', 'Batman: Paris', 'Batman: ITHis', 'Batman: ThetI', 'Batman: Whydo', 'Batman: Thean', 'Batman: IBeiE', 'Batman: isogd', 'Batman: WhyIU', 'Batman: isnan', 'Batman: WhyAm', 'Batman: TheeT', 'Batman: IveCl', 'Batman: Paris', 'Batman: CatsO', 'Batman: Paris', 'Batman: Thela', 'Batman: TheIN', 'Batman: Whydo', 'Batman: thegq', 'Batman: Whydo', 'Batman: Thebn', 'Batman: WhyME', 'Batman: Thess', 'Batman: Whydo', 'Batman: Theel', 'Batman: Igoth', 'Batman: Paris', 'Batman: WhatV', 'Batman: Theob', 'Batman: Imita', 'Batman: Paris', 'Batman: shutt', 'Batman: isnsR', 'Batman: ahaah', 'Batman: TheNg', 'Batman: Whydo', 'Batman: TheoR', 'Batman: Whyxo', 'Batman: notro', 'Batman: Iatra', 'Batman: Theor', 'Batman: WhydI']}\n"
     ]
    }
   ],
   "source": [
    "# Using the same BASE_URL you defined\n",
    "INTERNAL_PORT = 30000 # Need to expose port from runpod instance editting window \n",
    "POD_ID = \"5hkrkc2bdgjocd\" # Specific to each runpod instance\n",
    "BASE_URL = f\"https://{POD_ID}-{INTERNAL_PORT}.proxy.runpod.net\" # replace \"localhost\" with this\n",
    "\n",
    "import requests\n",
    "\n",
    "prompts = [  \n",
    "    \"What is the capital of France?\",\n",
    "    \"Tell me a short joke\"\n",
    "] * 200\n",
    "\n",
    "grammar_str = \"\"\"\n",
    "root ::= \"Batman: \" word\n",
    "word ::= letter letter letter letter letter\n",
    "letter ::= [a-zA-Z]\n",
    "\"\"\"\n",
    "\n",
    "# grammar_str = \"\"\"\n",
    "# root ::= [a-z]\n",
    "# \"\"\"\n",
    "\n",
    "request_data = {\n",
    "    \"prompts\": prompts,\n",
    "    \"grammar\": grammar_str\n",
    "}\n",
    "\n",
    "# response with grammar constraint\n",
    "response = requests.post(\n",
    "    f\"{BASE_URL}/generate_cfg\",\n",
    "    json=request_data,\n",
    ")\n",
    "\n",
    "# response without grammar constraint \n",
    "# response = requests.post(\n",
    "#     f\"{BASE_URL}/generate\",\n",
    "#     json = prompts\n",
    "# )\n",
    "\n",
    "if response.status_code == 200:\n",
    "    results = response.json()\n",
    "    print(\"\\nResults:\")\n",
    "    print(results)\n",
    "else:\n",
    "    print(f\"Error: {response.status_code}\")\n",
    "    print(response.text)\n",
    "    \n",
    "    \n",
    "# Next question is how to convert interleaved text & image data into prompt\n",
    "# llama3.2-vision-instruct should provide such information right? \n"
   ]
  },
  {
   "cell_type": "code",
   "execution_count": 13,
   "metadata": {},
   "outputs": [],
   "source": [
    "grammar_str = \"\"\"\n",
    "root ::= \"Batman: \" [a-zA-Z ]+\n",
    "\"\"\"\n",
    "\n"
   ]
  },
  {
   "cell_type": "code",
   "execution_count": 17,
   "metadata": {},
   "outputs": [
    {
     "name": "stdout",
     "output_type": "stream",
     "text": [
      "\n",
      "Results:\n",
      "{'results': ['Batman: Joker I should have known you were behind this mess in Arkham As']}\n"
     ]
    }
   ],
   "source": [
    "prompts = [  \n",
    "    \"Joker: So we meet again, Batman!\\n\"\n",
    "]\n",
    "\n",
    "request_data = {\n",
    "    \"prompts\": prompts,\n",
    "    \"grammar\": grammar_str\n",
    "}\n",
    "\n",
    "# response with grammar constraint\n",
    "response = requests.post(\n",
    "    f\"{BASE_URL}/generate_cfg\",\n",
    "    json=request_data,\n",
    ")\n",
    "\n",
    "if response.status_code == 200:\n",
    "    results = response.json()\n",
    "    print(\"\\nResults:\")\n",
    "    print(results)\n",
    "else:\n",
    "    print(f\"Error: {response.status_code}\")\n",
    "    print(response.text)"
   ]
  },
  {
   "cell_type": "code",
   "execution_count": 18,
   "metadata": {},
   "outputs": [
    {
     "data": {
      "text/plain": [
       "['Batman: Joker I should have known you were behind this mess in Arkham As']"
      ]
     },
     "execution_count": 18,
     "metadata": {},
     "output_type": "execute_result"
    }
   ],
   "source": [
    "results['results']"
   ]
  },
  {
   "cell_type": "code",
   "execution_count": null,
   "metadata": {},
   "outputs": [],
   "source": []
  }
 ],
 "metadata": {
  "kernelspec": {
   "display_name": "base",
   "language": "python",
   "name": "python3"
  },
  "language_info": {
   "codemirror_mode": {
    "name": "ipython",
    "version": 3
   },
   "file_extension": ".py",
   "mimetype": "text/x-python",
   "name": "python",
   "nbconvert_exporter": "python",
   "pygments_lexer": "ipython3",
   "version": "3.11.5"
  }
 },
 "nbformat": 4,
 "nbformat_minor": 2
}
